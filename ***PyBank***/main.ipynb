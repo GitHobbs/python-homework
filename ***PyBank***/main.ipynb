{
 "cells": [
  {
   "cell_type": "code",
   "execution_count": 1,
   "id": "16a7fdaf-4511-4d1e-ac1b-c4dc88306eb5",
   "metadata": {},
   "outputs": [
    {
     "name": "stdout",
     "output_type": "stream",
     "text": [
      "Financial Analysis\n",
      "-----------------------------\n",
      "Total Months: 86\n",
      "Total: $38382578\n",
      "Average Monthly Change: $-2315.12\n",
      "Greatest Increase in Profits: Feb-2012 $1926159\n",
      "Greatest Decrease in Profits: Sep-2013 $-2196167\n"
     ]
    }
   ],
   "source": [
    "#import csv\n",
    "from pathlib import Path\n",
    "import csv\n",
    "\n",
    "csvpath = Path('budget_data.csv')\n",
    "\n",
    "#define intitial variables\n",
    "total_months = 0\n",
    "total = 0\n",
    "date_max = \"\"\n",
    "date_min = \"\"\n",
    "greatest_increase = 0\n",
    "greatest_decrease = 0\n",
    "\n",
    "#create list to add monthly net changes in revenue\n",
    "net_change_list = []\n",
    "\n",
    "#read file\n",
    "with open(csvpath, 'r') as csvfile:\n",
    "    \n",
    "    csv_reader = csv.reader(csvfile, delimiter=',')\n",
    "\n",
    "#skip header    \n",
    "    csv_header = next(csv_reader)\n",
    "#define first row of data\n",
    "    first_row = next(csv_reader)\n",
    "#total months calculation    \n",
    "    total_months = total_months +1\n",
    "#total profit/loss calculation    \n",
    "    total += int(first_row[1])\n",
    "#define the first profit/loss amount to use in net change calculations\n",
    "    previous_net = int(first_row[1])\n",
    "#iterate through the file    \n",
    "    for row in csv_reader:\n",
    "#count the rows to get total months      \n",
    "        total_months += 1\n",
    "#sum total profit/loss\n",
    "        total += int(row[1])\n",
    "#calculate month over month change in profit/loss and add each value to the net change list        \n",
    "        net_change = int(row[1]) - previous_net\n",
    "        net_change_list.append(net_change)\n",
    "#define the new previous net \n",
    "        previous_net = int(row[1])\n",
    "#find greatest increase/decrease in profit/loss        \n",
    "        if net_change > greatest_increase:\n",
    "            greatest_increase = net_change\n",
    "            date_max = row[0]\n",
    "        if net_change < greatest_decrease:\n",
    "            greatest_decrease = net_change\n",
    "            date_min = row[0]\n",
    "                           \n",
    "\n",
    "print(\"Financial Analysis\")\n",
    "print(\"-----------------------------\")\n",
    "print(f\"Total Months: {total_months}\")\n",
    "print(f\"Total: ${total}\")\n",
    "print(f\"Average Monthly Change: ${round(sum(net_change_list)/len(net_change_list),2)}\")\n",
    "print(f\"Greatest Increase in Profits: {date_max} ${greatest_increase}\")\n",
    "print(f\"Greatest Decrease in Profits: {date_min} ${greatest_decrease}\")\n",
    "     \n",
    "    \n",
    "    "
   ]
  },
  {
   "cell_type": "code",
   "execution_count": null,
   "id": "873d2826-ddb3-4593-a603-1eba862158ce",
   "metadata": {},
   "outputs": [],
   "source": []
  }
 ],
 "metadata": {
  "kernelspec": {
   "display_name": "dev",
   "language": "python",
   "name": "dev"
  },
  "language_info": {
   "codemirror_mode": {
    "name": "ipython",
    "version": 3
   },
   "file_extension": ".py",
   "mimetype": "text/x-python",
   "name": "python",
   "nbconvert_exporter": "python",
   "pygments_lexer": "ipython3",
   "version": "3.9.15"
  }
 },
 "nbformat": 4,
 "nbformat_minor": 5
}
