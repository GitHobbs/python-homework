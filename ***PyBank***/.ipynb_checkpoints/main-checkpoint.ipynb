{
 "cells": [
  {
   "cell_type": "code",
   "execution_count": 19,
   "id": "16a7fdaf-4511-4d1e-ac1b-c4dc88306eb5",
   "metadata": {},
   "outputs": [
    {
     "ename": "SyntaxError",
     "evalue": "f-string: invalid syntax (3654245809.py, line 32)",
     "output_type": "error",
     "traceback": [
      "\u001b[0;36m  File \u001b[0;32m\"/var/folders/ld/701kz1kn1vd3s8r65151rc680000gn/T/ipykernel_94325/3654245809.py\"\u001b[0;36m, line \u001b[0;32m32\u001b[0m\n\u001b[0;31m    print(f\"Total Months: {total months}\")\u001b[0m\n\u001b[0m           ^\u001b[0m\n\u001b[0;31mSyntaxError\u001b[0m\u001b[0;31m:\u001b[0m f-string: invalid syntax\n"
     ]
    }
   ],
   "source": [
    "from pathlib import Path\n",
    "import csv\n",
    "\n",
    "csvpath = Path('/PyBank/Resources/budget_data.csv')\n",
    "\n",
    "records = []\n",
    "\n",
    "with open(csvpath, 'r') as csvfile:\n",
    "    csv_reader = csv.reader(csvfile, delimiter=',')\n",
    "    \n",
    "    csv_header = next(csv_reader)\n",
    "    csv_header.append(\"change\")\n",
    "    \n",
    "    change_max = 0\n",
    "    change_min = 0 \n",
    "    \n",
    "    for row in csv_reader:\n",
    "        \n",
    "        date = row[0]\n",
    "        profit_loss = int(row[1])\n",
    "        total_months = count(row[\"Date\"])\n",
    "        total += int(row[\"Profit/Losses\"])\n",
    "        \n",
    "        if int(row[2]) > change_max:\n",
    "            change_max = int(row[2])\n",
    "        if int(row[2]) < change_min:\n",
    "            change_min = int(row[2])\n",
    "        \n",
    "\n",
    "print(\"Financial Analysis\")\n",
    "print(\"-----------------------------\")\n",
    "print(f\"Total Months: {total months}\")\n",
    "print(f\"Total: {total}\")\n",
    "print(f\"Greatest Increase in Profits: {date} {change_max}\")\n",
    "print(f\"Greatest Decrease in Profits: {date} {change_min}\")\n",
    "     \n",
    "    \n",
    "    "
   ]
  },
  {
   "cell_type": "code",
   "execution_count": null,
   "id": "873d2826-ddb3-4593-a603-1eba862158ce",
   "metadata": {},
   "outputs": [],
   "source": []
  }
 ],
 "metadata": {
  "kernelspec": {
   "display_name": "dev",
   "language": "python",
   "name": "dev"
  },
  "language_info": {
   "codemirror_mode": {
    "name": "ipython",
    "version": 3
   },
   "file_extension": ".py",
   "mimetype": "text/x-python",
   "name": "python",
   "nbconvert_exporter": "python",
   "pygments_lexer": "ipython3",
   "version": "3.9.15"
  }
 },
 "nbformat": 4,
 "nbformat_minor": 5
}
