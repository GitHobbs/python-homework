{
 "cells": [
  {
   "cell_type": "code",
   "execution_count": null,
   "id": "f43cafa9-473d-4904-b273-bcacef8ea714",
   "metadata": {},
   "outputs": [],
   "source": [
    "from pathlib import Path\n",
    "import csv\n",
    "\n",
    "csv_path = Path('PyRamen/Resources/menu_data.csv')\n",
    "\n",
    "menu = []\n",
    "\n",
    "with open(csv_path, 'r') as csvfile:\n",
    "    csv_reader = csv.reader(csfvile, delimiter = ',')\n",
    "    csv_header = next(csv_reader)\n",
    "    \n",
    "    for row in csv_reader:\n",
    "        menu.append(row)\n",
    "        \n",
    "#import sales_data.csv\n",
    "from pathlib import Path\n",
    "import csv\n",
    "\n",
    "csv_path = Path('PyRamen/Resources/sales_data.csv')\n",
    "\n",
    "sales = []\n",
    "\n",
    "with open(csv_path, 'r') as csvfile:\n",
    "    csv_reader = csv.reader(csfvile, delimiter = ',')\n",
    "    csv_header = next(csv_reader)\n",
    "    \n",
    "    for row in csv_reader:\n",
    "        sales.append(row)  \n",
    "        \n",
    "report = {}\n",
    "\n",
    "quantity = sales(Quantity)\n",
    "menu_item = sales(Menu_Item)\n"
   ]
  }
 ],
 "metadata": {
  "kernelspec": {
   "display_name": "Python 3 (ipykernel)",
   "language": "python",
   "name": "python3"
  },
  "language_info": {
   "codemirror_mode": {
    "name": "ipython",
    "version": 3
   },
   "file_extension": ".py",
   "mimetype": "text/x-python",
   "name": "python",
   "nbconvert_exporter": "python",
   "pygments_lexer": "ipython3",
   "version": "3.9.13"
  }
 },
 "nbformat": 4,
 "nbformat_minor": 5
}
