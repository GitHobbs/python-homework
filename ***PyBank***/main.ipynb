{
 "cells": [
  {
   "cell_type": "code",
   "execution_count": 1,
   "id": "16a7fdaf-4511-4d1e-ac1b-c4dc88306eb5",
   "metadata": {},
   "outputs": [
    {
     "ename": "FileNotFoundError",
     "evalue": "[Errno 2] No such file or directory: 'Resources/budget_data.csv'",
     "output_type": "error",
     "traceback": [
      "\u001b[0;31m---------------------------------------------------------------------------\u001b[0m",
      "\u001b[0;31mFileNotFoundError\u001b[0m                         Traceback (most recent call last)",
      "\u001b[0;32m/var/folders/ld/701kz1kn1vd3s8r65151rc680000gn/T/ipykernel_92153/874292180.py\u001b[0m in \u001b[0;36m<module>\u001b[0;34m\u001b[0m\n\u001b[1;32m     17\u001b[0m \u001b[0;34m\u001b[0m\u001b[0m\n\u001b[1;32m     18\u001b[0m \u001b[0;31m#read file\u001b[0m\u001b[0;34m\u001b[0m\u001b[0;34m\u001b[0m\u001b[0m\n\u001b[0;32m---> 19\u001b[0;31m \u001b[0;32mwith\u001b[0m \u001b[0mopen\u001b[0m\u001b[0;34m(\u001b[0m\u001b[0mcsvpath\u001b[0m\u001b[0;34m,\u001b[0m \u001b[0;34m'r'\u001b[0m\u001b[0;34m)\u001b[0m \u001b[0;32mas\u001b[0m \u001b[0mcsvfile\u001b[0m\u001b[0;34m:\u001b[0m\u001b[0;34m\u001b[0m\u001b[0;34m\u001b[0m\u001b[0m\n\u001b[0m\u001b[1;32m     20\u001b[0m \u001b[0;34m\u001b[0m\u001b[0m\n\u001b[1;32m     21\u001b[0m     \u001b[0mcsv_reader\u001b[0m \u001b[0;34m=\u001b[0m \u001b[0mcsv\u001b[0m\u001b[0;34m.\u001b[0m\u001b[0mreader\u001b[0m\u001b[0;34m(\u001b[0m\u001b[0mcsvfile\u001b[0m\u001b[0;34m,\u001b[0m \u001b[0mdelimiter\u001b[0m\u001b[0;34m=\u001b[0m\u001b[0;34m','\u001b[0m\u001b[0;34m)\u001b[0m\u001b[0;34m\u001b[0m\u001b[0;34m\u001b[0m\u001b[0m\n",
      "\u001b[0;31mFileNotFoundError\u001b[0m: [Errno 2] No such file or directory: 'Resources/budget_data.csv'"
     ]
    }
   ],
   "source": [
    "#import csv\n",
    "from pathlib import Path\n",
    "import csv\n",
    "\n",
    "csvpath = Path('Resources/budget_data.csv')\n",
    "\n",
    "#define intitial variables\n",
    "total_months = 0\n",
    "total = 0\n",
    "date_max = \"\"\n",
    "date_min = \"\"\n",
    "greatest_increase = 0\n",
    "greatest_decrease = 0\n",
    "\n",
    "#create list to add monthly net changes in revenue\n",
    "net_change_list = []\n",
    "\n",
    "#read file\n",
    "with open(csvpath, 'r') as csvfile:\n",
    "    \n",
    "    csv_reader = csv.reader(csvfile, delimiter=',')\n",
    "\n",
    "#skip header    \n",
    "    csv_header = next(csv_reader)\n",
    "#define first row of data\n",
    "    first_row = next(csv_reader)\n",
    "#total months calculation    \n",
    "    total_months = total_months +1\n",
    "#total profit/loss calculation    \n",
    "    total += int(first_row[1])\n",
    "#define the first profit/loss amount to use in net change calculations\n",
    "    previous_net = int(first_row[1])\n",
    "#iterate through the file    \n",
    "    for row in csv_reader:\n",
    "#count the rows to get total months      \n",
    "        total_months += 1\n",
    "#sum total profit/loss\n",
    "        total += int(row[1])\n",
    "#calculate month over month change in profit/loss and add each value to the net change list        \n",
    "        net_change = int(row[1]) - previous_net\n",
    "        net_change_list.append(net_change)\n",
    "#define the new previous net \n",
    "        previous_net = int(row[1])\n",
    "#find greatest increase/decrease in profit/loss        \n",
    "        if net_change > greatest_increase:\n",
    "            greatest_increase = net_change\n",
    "            date_max = row[0]\n",
    "        if net_change < greatest_decrease:\n",
    "            greatest_decrease = net_change\n",
    "            date_min = row[0]\n",
    "                           \n",
    "\n",
    "print(\"Financial Analysis\")\n",
    "print(\"-----------------------------\")\n",
    "print(f\"Total Months: {total_months}\")\n",
    "print(f\"Total: ${total}\")\n",
    "print(f\"Average Monthly Change: ${round(sum(net_change_list)/len(net_change_list),2)}\")\n",
    "print(f\"Greatest Increase in Profits: {date_max} ${greatest_increase}\")\n",
    "print(f\"Greatest Decrease in Profits: {date_min} ${greatest_decrease}\")\n",
    "     \n",
    "    \n",
    "    "
   ]
  },
  {
   "cell_type": "code",
   "execution_count": null,
   "id": "873d2826-ddb3-4593-a603-1eba862158ce",
   "metadata": {},
   "outputs": [],
   "source": []
  }
 ],
 "metadata": {
  "kernelspec": {
   "display_name": "dev",
   "language": "python",
   "name": "dev"
  },
  "language_info": {
   "codemirror_mode": {
    "name": "ipython",
    "version": 3
   },
   "file_extension": ".py",
   "mimetype": "text/x-python",
   "name": "python",
   "nbconvert_exporter": "python",
   "pygments_lexer": "ipython3",
   "version": "3.9.15"
  }
 },
 "nbformat": 4,
 "nbformat_minor": 5
}
